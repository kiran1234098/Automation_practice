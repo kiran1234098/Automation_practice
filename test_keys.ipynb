{
 "cells": [
  {
   "cell_type": "code",
   "execution_count": 1,
   "metadata": {},
   "outputs": [],
   "source": [
    "import sys\n",
    "from selenium.webdriver import Keys,ActionChains\n",
    "from selenium.webdriver.common.by import By"
   ]
  },
  {
   "cell_type": "code",
   "execution_count": 2,
   "metadata": {},
   "outputs": [],
   "source": [
    "def test_key_down(driver):\n",
    "    driver.get('https://selenium.dev/selenium/web/single_text_input.html')\n",
    "\n",
    "    ActionChains(driver)\\\n",
    "        .key_down(Keys.SHIFT)\\\n",
    "        .send_keys(\"abc\")\\\n",
    "        .perform()\n",
    "    \n",
    "    assert driver.find_element(By.ID,\"textInput\").get_attribute('value') == \"ABC\"\n",
    "    "
   ]
  },
  {
   "cell_type": "code",
   "execution_count": 3,
   "metadata": {},
   "outputs": [],
   "source": [
    "def test_key_up(driver):\n",
    "    driver.get(\"https://selenium.dev/selenium/web/single_text_input.html\")\n",
    "\n",
    "    ActionChains(driver)\\\n",
    "        .key_down(Keys.SHIFT)\\\n",
    "        .send_keys(\"a\")\\\n",
    "        .key_up(Keys.SHIFT)\\\n",
    "        .send_keys(\"b\")\\\n",
    "        .perform()\n",
    "    assert driver.find_element(By.ID,\"textInput\").get_attribute('value') == \"Ab\"\n",
    "\n",
    "  "
   ]
  },
  {
   "cell_type": "code",
   "execution_count": 4,
   "metadata": {},
   "outputs": [],
   "source": [
    "def test_send_keys_to_active_element(driver):\n",
    "    driver.get(\"https://selenium.dev/selenium/web/single_text_input.html\")\n",
    "\n",
    "    ActionChains(driver)\\\n",
    "        .send_keys(\"abc\")\\\n",
    "        .perform()\n",
    "    \n",
    "    assert driver.find_element(By.ID,\"textInput\").get_attribute('value') == \"abc\"\n",
    "\n",
    "\n",
    "    "
   ]
  },
  {
   "cell_type": "code",
   "execution_count": 5,
   "metadata": {},
   "outputs": [],
   "source": [
    "def test_send_keys_to_designated_element(driver):\n",
    "    driver.get('https://selenium/selenium/web/single_text_input.html')\n",
    "    driver.find_element(By.TAG_NAME,\"body\").click()\n",
    "\n",
    "    text_input =driver.find_element(By.ID,\"textInput\")\n",
    "\n",
    "    ActionChains(driver)\\\n",
    "        .send_keys_to_element(text_input,\"abc\")\\\n",
    "        .perform()\n",
    "    \n",
    "    assert driver.find_element(By.ID,\"textInput\").get_attribute('value') == \"abc\""
   ]
  },
  {
   "cell_type": "code",
   "execution_count": null,
   "metadata": {},
   "outputs": [],
   "source": [
    "def test_copy_and_paste(firefox_driver):\n",
    "    driver = firefox_driver\n",
    "    driver.get('https://selenium.dev/selenium/web/single_text_input.html')\n",
    "    cmd_ctrl = Keys.COMMAND if sys.platform == \"darwin\" else keys.CONTROL\n",
    "\n",
    "    ActionChains(driver)\\\n",
    "    .send_keys(\"selenium!\")\\\n",
    "    .send_keys(Keys.ARROW_LEFT)\\\n",
    "    .key_down(Keys.ARROW_UP)\\\n",
    "    .key_down(cmd_ctrl)\\\n",
    "    .send_keys(\"xvv\")\\\n",
    "    .key_up(cmd_ctrl)\\\n",
    "    .perform()\n",
    "\n",
    "    assert driver.find_element(By.ID,'textInput').get_attribute('value')== \"selenium\"\n",
    "\n",
    "    "
   ]
  },
  {
   "cell_type": "code",
   "execution_count": null,
   "metadata": {},
   "outputs": [],
   "source": []
  }
 ],
 "metadata": {
  "kernelspec": {
   "display_name": "Python 3",
   "language": "python",
   "name": "python3"
  },
  "language_info": {
   "codemirror_mode": {
    "name": "ipython",
    "version": 3
   },
   "file_extension": ".py",
   "mimetype": "text/x-python",
   "name": "python",
   "nbconvert_exporter": "python",
   "pygments_lexer": "ipython3",
   "version": "3.11.1"
  },
  "orig_nbformat": 4
 },
 "nbformat": 4,
 "nbformat_minor": 2
}
