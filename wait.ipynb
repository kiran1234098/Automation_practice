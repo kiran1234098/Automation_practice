{
 "cells": [
  {
   "cell_type": "code",
   "execution_count": 1,
   "metadata": {},
   "outputs": [],
   "source": [
    "import pytest\n",
    "import time\n",
    "from selenium.common import ElementNotInteractableException,NoSuchElementException\n",
    "from selenium.webdriver.common.by import By\n",
    "from selenium.webdriver.support.wait import WebDriverWait"
   ]
  },
  {
   "cell_type": "code",
   "execution_count": 2,
   "metadata": {},
   "outputs": [],
   "source": [
    "def test_fails(driver):\n",
    "    driver.get('https://www.selenium/web/dynamic.html')\n",
    "    driver.find_element(By.ID,\"adder\").click()\n",
    "\n",
    "    with pytest.raises(NoSuchElementException):\n",
    "        driver.find_element(By.ID,'box0')"
   ]
  },
  {
   "cell_type": "code",
   "execution_count": null,
   "metadata": {},
   "outputs": [],
   "source": [
    "test_fails(driver=)"
   ]
  },
  {
   "cell_type": "code",
   "execution_count": 3,
   "metadata": {},
   "outputs": [],
   "source": [
    "def test_sleep(driver):\n",
    "    driver.get('https://www.selenium/web/dynamic.html')\n",
    "    driver.find_element(By.ID,\"adder\").click()\n",
    "\n",
    "    time.sleep(2)\n",
    "    added = driver.find_element(By.ID,\"box0\")\n",
    "\n",
    "    assert added.get_dom_attribute(\"class\")== 'redbox'\n",
    "    "
   ]
  },
  {
   "cell_type": "code",
   "execution_count": null,
   "metadata": {},
   "outputs": [],
   "source": [
    "test_sleep(driver=)"
   ]
  },
  {
   "cell_type": "code",
   "execution_count": 4,
   "metadata": {},
   "outputs": [],
   "source": [
    "def test_implicit(driver):\n",
    "    driver.implicitly_wait(2)\n",
    "    driver.get('https://www.selenium')\n",
    "    driver.find_element(By.ID,\"adder\").click()\n",
    "\n",
    "    added = driver.find_element(By.ID,\"box0\")\n",
    "\n",
    "    assert added.get_dom_attribute('class') == \"redbox\"\n",
    "\n",
    "    "
   ]
  },
  {
   "cell_type": "code",
   "execution_count": null,
   "metadata": {},
   "outputs": [],
   "source": [
    "test_implicit(driver=)"
   ]
  },
  {
   "cell_type": "code",
   "execution_count": 5,
   "metadata": {},
   "outputs": [],
   "source": [
    "def test_explicit(driver):\n",
    "    driver.get(\"https://www.selenium.dev/selenium/web/dynamic.html\")\n",
    "    revealed = driver.find_element(By.ID,\"revealed\")\n",
    "    wait = WebDriverWait(driver,timeout=2)\n",
    "\n",
    "    driver.find_element(By.ID,\"reveal\").click()\n",
    "\n",
    "    wait.until(lambda d : revealed.is_displayed())\n",
    "    \n",
    "\n",
    "    revealed.send_keys(\"Displayed\")\n",
    "\n",
    "    assert revealed.get_property(\"value\") == \"Displayed\"\n",
    "\n",
    "    "
   ]
  },
  {
   "cell_type": "code",
   "execution_count": null,
   "metadata": {},
   "outputs": [],
   "source": [
    "test_explicit(driver=)"
   ]
  },
  {
   "cell_type": "code",
   "execution_count": null,
   "metadata": {},
   "outputs": [],
   "source": [
    "def test_explicit_options(driver):\n",
    "    driver.get('https://www.selenium.dev/selenium/web/dynamic.html')\n",
    "    revealed = driver.find_element(By.ID,\"revealed\")\n",
    "    errors = [NoSuchElementException,ElementNotInteractableException]\n",
    "    wait = WebDriverWait(driver,timeout=2,poll_frequency=.2,ignored_exceptions=errors)\n",
    "\n",
    "    driver.find_element(By.ID,'reveal').click()\n",
    "    wait.until(lambda d: revealed.send_keys(\"Displayed\") or true)\n",
    "\n",
    "    assert revealed.get_property(\"value\") == \"Displayed\""
   ]
  }
 ],
 "metadata": {
  "kernelspec": {
   "display_name": "Python 3",
   "language": "python",
   "name": "python3"
  },
  "language_info": {
   "codemirror_mode": {
    "name": "ipython",
    "version": 3
   },
   "file_extension": ".py",
   "mimetype": "text/x-python",
   "name": "python",
   "nbconvert_exporter": "python",
   "pygments_lexer": "ipython3",
   "version": "3.11.1"
  },
  "orig_nbformat": 4
 },
 "nbformat": 4,
 "nbformat_minor": 2
}
