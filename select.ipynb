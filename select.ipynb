{
 "cells": [
  {
   "cell_type": "code",
   "execution_count": 1,
   "metadata": {},
   "outputs": [],
   "source": [
    "import pytest\n",
    "from selenium.webdriver.common.by import By\n",
    "from selenium.webdriver.support.select import Select"
   ]
  },
  {
   "cell_type": "code",
   "execution_count": 2,
   "metadata": {},
   "outputs": [],
   "source": [
    "def test_select_options(driver):\n",
    "    driver.get(\"https://selenium.dev/selenium/web/formPage.html\")\n",
    "\n",
    "    select_element = driver.find_element(By.NAME,'selectomatic')\n",
    "    select = Select(select_element)\n",
    "\n",
    "    two_element = driver.find_element(By.CSS_SELECTOR,'option[value=two]')\n",
    "    four_element = driver.find_element(By.CSS_SELECTOR,'option[value=four]')\n",
    "    count_element = driver.find_element(By.CSS_SELECTOR,\"option[value='still learning how to count,apparently']\")\n",
    "\n",
    "    select.select_by_visible_text('Four')\n",
    "    assert two_element.is_selected()\n",
    "\n",
    "    select.select_by_value('two')\n",
    "    assert two_element.is_selected()\n",
    "\n",
    "    select.select_by_index(3)\n",
    "    assert count_element.is_selected()\n",
    "\n",
    "\n",
    "    "
   ]
  },
  {
   "cell_type": "code",
   "execution_count": null,
   "metadata": {},
   "outputs": [],
   "source": [
    "def test_select_multiple_options(driver):\n",
    "    driver.get('https://selenium.dev/selenium/web/formPage.html')\n",
    "\n",
    "    select_element = driver.find_element(By.NAME,\"multi\")\n",
    "\n",
    "    select = select(select_element)\n",
    "\n",
    "    ham_element =driver.find_element(By.CSS_SELECTOR,'option[value=ham]')\n",
    "    gravy_element = driver.find_element(By.CSS_SELECTOR,\"option[value='onion gravy']\")\n",
    "    egg_element - driver.find_element(By.CSS_SELECTOR,'option[value=\"eggs\"]')\n",
    "    "
   ]
  }
 ],
 "metadata": {
  "kernelspec": {
   "display_name": "Python 3",
   "language": "python",
   "name": "python3"
  },
  "language_info": {
   "codemirror_mode": {
    "name": "ipython",
    "version": 3
   },
   "file_extension": ".py",
   "mimetype": "text/x-python",
   "name": "python",
   "nbconvert_exporter": "python",
   "pygments_lexer": "ipython3",
   "version": "3.11.1"
  },
  "orig_nbformat": 4
 },
 "nbformat": 4,
 "nbformat_minor": 2
}
