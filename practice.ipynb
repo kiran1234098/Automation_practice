{
 "cells": [
  {
   "cell_type": "code",
   "execution_count": null,
   "metadata": {},
   "outputs": [
    {
     "ename": "",
     "evalue": "",
     "output_type": "error",
     "traceback": [
      "\u001b[1;31mFailed to start the Kernel. \n",
      "\u001b[1;31mSyntaxError: expected 'except' or 'finally' block. \n",
      "\u001b[1;31mView Jupyter <a href='command:jupyter.viewOutput'>log</a> for further details."
     ]
    }
   ],
   "source": [
    "from selenium import webdriver\n",
    "from selenium.webdriver.support.wait import WebDriverWait\n",
    "driver = webdriver.Chrome()\n",
    "def document_initialised(driver):\n",
    "    return driver.execute_script(\"return initialised\")\n",
    "\n",
    "driver.navigate(\"file//race_condition.html\")\n",
    "WebDriverWait(driver,timeout=10).until(document_initialised)\n",
    "el = driver.find_element(By.ID,\"p\")\n",
    "assert el.text == \"hello from javaScript\""
   ]
  },
  {
   "cell_type": "code",
   "execution_count": null,
   "metadata": {},
   "outputs": [],
   "source": [
    "driver =Firefox()\n",
    "driver.implicitly_wait(10)\n",
    "driver.get(\"\")\n",
    "my_element = driver.find_element(By.ID,\"\")"
   ]
  },
  {
   "cell_type": "code",
   "execution_count": null,
   "metadata": {},
   "outputs": [],
   "source": [
    "from selenium import webdriver\n",
    "driver.implicitly_wait(10)\n",
    "driver.get(\"\")\n",
    "driver.find_element(By.ID,\"\").send_key(\"\")\n",
    "driver.find_element(By.ID,\"\").submit()\n",
    "if driver.page_source.find(\"File uploaded!\"):\n",
    "\n",
    "\n",
    "driver.quit()    "
   ]
  },
  {
   "cell_type": "code",
   "execution_count": null,
   "metadata": {},
   "outputs": [],
   "source": [
    "driver = webdriver.Chrome()\n",
    "driver.find_element(By.ID,\"\")"
   ]
  },
  {
   "cell_type": "code",
   "execution_count": null,
   "metadata": {},
   "outputs": [],
   "source": [
    "vege = driver.find_element(By.class_Name,\"\")"
   ]
  },
  {
   "cell_type": "code",
   "execution_count": null,
   "metadata": {},
   "outputs": [],
   "source": [
    "fruits = driver.find_element(By.ID,\"fruits\")\n",
    "fruits = fruits.find_element(By.Class_name,\"tomates\")"
   ]
  },
  {
   "cell_type": "code",
   "execution_count": null,
   "metadata": {},
   "outputs": [],
   "source": [
    "fruit = driver.find_element(By.css_selector,\"#fruits .tomatoes\")"
   ]
  },
  {
   "cell_type": "code",
   "execution_count": null,
   "metadata": {},
   "outputs": [],
   "source": [
    "plants= driver.find_elements(By.Tag_Name,\"li\")"
   ]
  },
  {
   "cell_type": "code",
   "execution_count": null,
   "metadata": {},
   "outputs": [],
   "source": [
    "from selenium import webdriver\n",
    "from selenium.webdriver.common.by import By\n",
    "driver = webdriver.firefox()\n",
    "\n",
    "# Navigate to url\n",
    "driver.get(\"\")\n",
    "\n",
    "# get all the elemnets availabale with tag name 'p'\n",
    "elements = driver.find_elements(By.TAG_NAME,\"p\")\n",
    "\n",
    "for e in elements:\n",
    "    print(e.text)"
   ]
  },
  {
   "cell_type": "code",
   "execution_count": null,
   "metadata": {},
   "outputs": [],
   "source": [
    "from selenium import webdriver\n",
    "from selenium.webdriver.common.by import By\n",
    "\n",
    "driver = webdriver.Chrome()\n",
    "driver.get(\"h\")\n",
    "\n",
    "driver.find_element(By.CSS_SELECTOR,\"\").send_keys(\"\")\n",
    "\n",
    "#get attribute of current active element \n",
    "attr = driver.switch_to.active_element.get_attribute(\"title\")\n",
    "print()"
   ]
  },
  {
   "cell_type": "code",
   "execution_count": null,
   "metadata": {},
   "outputs": [],
   "source": [
    "driver.get(\"\")\n",
    "driver.find_element(By.ID,\"\").click()\n",
    "driver.find_element(By.ID,\"\").clear()"
   ]
  },
  {
   "cell_type": "code",
   "execution_count": null,
   "metadata": {},
   "outputs": [],
   "source": [
    "select_element = driver.find_element(By.Name,\"\")\n",
    "select = Select(select_eleme)"
   ]
  }
 ],
 "metadata": {
  "kernelspec": {
   "display_name": "Python 3",
   "language": "python",
   "name": "python3"
  },
  "language_info": {
   "name": "python",
   "version": "3.11.1"
  },
  "orig_nbformat": 4
 },
 "nbformat": 4,
 "nbformat_minor": 2
}
