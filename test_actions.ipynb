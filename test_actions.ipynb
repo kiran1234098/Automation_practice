{
 "cells": [
  {
   "cell_type": "code",
   "execution_count": 2,
   "metadata": {},
   "outputs": [],
   "source": [
    "from time import time\n",
    "from selenium.webdriver import Keys,ActionChains\n",
    "from selenium.webdriver.common.by import By\n",
    "from selenium.webdriver.common.actions.action_builder import ActionBuilder"
   ]
  },
  {
   "cell_type": "code",
   "execution_count": 5,
   "metadata": {},
   "outputs": [],
   "source": [
    "def test_pause(driver):\n",
    "    driver.get('https://selenium.dev/selenium/web/mouse_iteraction.html')\n",
    "\n",
    "    start = time()\n",
    "\n",
    "    clickable =driver.find_element(By.ID,\"clickable\")\n",
    "    ActionChains(driver)\\\n",
    "    .move_to_element(clickable)\\\n",
    "    .pause(1)\\\n",
    "    .click_and_hold()\\\n",
    "    .pause(1)\\\n",
    "    .send_keys(\"abc\")\\\n",
    "    .perform()\n",
    "\n",
    "    duration = time() - start \n",
    "    assert duration > 2\n",
    "    assert duration < 3\n",
    "\n",
    "\n"
   ]
  },
  {
   "cell_type": "code",
   "execution_count": null,
   "metadata": {},
   "outputs": [],
   "source": [
    "def test_release_all(driver):\n",
    "    driver.get('https://selenium.dev/selenium/web/mouse_interaction.html')\n",
    "\n",
    "    clickable = driver.find_element(By.ID,\"clickable\")\n",
    "\n",
    "    ActionChains(driver)\\\n",
    "        .click_and_hold(clickable)\\\n",
    "        .key_down(Keys.SHIFT)\\\n",
    "        .key_down(\"a\")\\\n",
    "        .perform()\n",
    "    \n",
    "    ActionBuilder(driver).clear_actions()\n",
    "\n",
    "    ActionChains(driver).key_down('a').perform()\n",
    "\n",
    "    assert clickable.get_attribute('value')[0] == \"A\"\n",
    "\n",
    "    assert clickable.get_attribute('value')[1] == \"a\"\n",
    "\n",
    "    "
   ]
  }
 ],
 "metadata": {
  "kernelspec": {
   "display_name": "Python 3",
   "language": "python",
   "name": "python3"
  },
  "language_info": {
   "codemirror_mode": {
    "name": "ipython",
    "version": 3
   },
   "file_extension": ".py",
   "mimetype": "text/x-python",
   "name": "python",
   "nbconvert_exporter": "python",
   "pygments_lexer": "ipython3",
   "version": "3.11.1"
  },
  "orig_nbformat": 4
 },
 "nbformat": 4,
 "nbformat_minor": 2
}
