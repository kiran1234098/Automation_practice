{
 "cells": [
  {
   "cell_type": "code",
   "execution_count": 1,
   "metadata": {},
   "outputs": [],
   "source": [
    "from time import sleep\n",
    "from selenium.webdriver import ActionChains\n",
    "from selenium.webdriver.common.actions.action_builder import ActionBuilder\n",
    "from selenium.webdriver.common.actions.mouse_button import MouseButton\n",
    "from selenium.webdriver.common.by import By"
   ]
  },
  {
   "cell_type": "code",
   "execution_count": 2,
   "metadata": {},
   "outputs": [
    {
     "ename": "IndentationError",
     "evalue": "unexpected indent (1276768137.py, line 7)",
     "output_type": "error",
     "traceback": [
      "\u001b[1;36m  Cell \u001b[1;32mIn[2], line 7\u001b[1;36m\u001b[0m\n\u001b[1;33m    .perform()\u001b[0m\n\u001b[1;37m    ^\u001b[0m\n\u001b[1;31mIndentationError\u001b[0m\u001b[1;31m:\u001b[0m unexpected indent\n"
     ]
    }
   ],
   "source": [
    "def test_click_and_hold(driver):\n",
    "    driver.get('https://selenium.dev/selenium/web/mouse_interaction.html')\n",
    "\n",
    "    clickable = driver.find_element(By.ID,'clickable')\n",
    "    ActionChains(driver)\\\n",
    "        .click_and_hold(clickable)\n",
    "        .perform()\n",
    "    \n",
    "    sleep(0.5)\n",
    "    assert driver.find_element(By.ID,\"click-status\").text ==\"focused\"\n",
    "\n",
    "    "
   ]
  },
  {
   "cell_type": "code",
   "execution_count": 3,
   "metadata": {},
   "outputs": [],
   "source": [
    "def test_click_and_releasse(driver):\n",
    "    driver.get('https://selenium.dev/selenium/web/mouse_interaction.html')\n",
    "\n",
    "    clickable = driver.find_element(By.ID,'click')\n",
    "    ActionChains(driver)\\\n",
    "        .click(clickable)\\\n",
    "        .perform()\n",
    "    \n",
    "    assert \"resultPage.html\" in driver.current_url\n",
    "\n",
    "    "
   ]
  },
  {
   "cell_type": "code",
   "execution_count": 4,
   "metadata": {},
   "outputs": [],
   "source": [
    "def test_right_click(driver):\n",
    "\n",
    "    driver.get('https://selenium.dev/selenium/web/mouse_interaction.html')\n",
    "\n",
    "    ActionChains(driver)\\\n",
    "        .context_click(clickable)\\\n",
    "        .perform()\n",
    "    \n",
    "    sleep(0.5)\n",
    "    assert driver.find_element(By.ID,\"click-status\").text ==\"context-clicked\""
   ]
  },
  {
   "cell_type": "code",
   "execution_count": 5,
   "metadata": {},
   "outputs": [],
   "source": [
    "def test_back_click_ab(driver):\n",
    "    driver.get('https://selenium.dev/selenium/web/mouse_interaction.html')\n",
    "    driver.find_element(By.ID,\"click\").click()\n",
    "    assert driver.title == \"we Arrive Here\"\n",
    "\n",
    "    action = ActionBuilder(driver)\n",
    "    action.pointer_action.pointer_down(MouseButton.BACK)\n",
    "    action.pointer_action.pointer_up(MouseButton.BACK)\n",
    "    action.perform()\n",
    "\n",
    "    assert driver.title == \"BasicMouseInterfaceTest\"\n",
    "\n",
    "    "
   ]
  },
  {
   "cell_type": "code",
   "execution_count": 6,
   "metadata": {},
   "outputs": [],
   "source": [
    "def test_forword_click_ab(driver):\n",
    "    driver.get('https://selenium.dev/selenium/web/mouse_interaction.html')\n",
    "    driver.find_element(By.ID,\"click\").click()\n",
    "    driver.back()\n",
    "    assert driver.title == \"BasicMouseInterfaceTest\"\n",
    "\n",
    "    action = ActionBuilder(driver)\n",
    "    action.pointer_action.pointer_down(MouseButton.FORWARD)\n",
    "    action.pointer_action.pointer_up(MouseButton.FORWARD)\n",
    "    action.perform()\n",
    "\n",
    "    assert driver.title ==\"we Arrive Here\"\n",
    "    "
   ]
  },
  {
   "cell_type": "code",
   "execution_count": 7,
   "metadata": {},
   "outputs": [],
   "source": [
    "def test_double_clickK(driver):\n",
    "    driver.get('https://selenium.dev/selenium/web/mouse_interaction.html')\n",
    "\n",
    "    clickable = driver.find_element(By.ID,\"clickable\")\n",
    "    ActionChains(driver)\\\n",
    "        .double_click(clickable)\\\n",
    "        .perform()\n",
    "    \n",
    "    assert driver.find_element(By.ID,\"click-status\").text == \"double-clicked\"\n",
    "    "
   ]
  },
  {
   "cell_type": "code",
   "execution_count": 8,
   "metadata": {},
   "outputs": [],
   "source": [
    "def test_hover(driver):\n",
    "    driver.get('https://selenium/web/mouse_interaction.html')\n",
    "\n",
    "    hoverable = driver.find_element(By.ID,\"hover\")\n",
    "    ActionChains(driver)\\\n",
    "        .move_to_element(hoverable)\\\n",
    "        .perform()\n",
    "    \n",
    "    assert driver.find_element(By.ID,\"move-status\").text ==\"hovered\"\n",
    "    "
   ]
  },
  {
   "cell_type": "code",
   "execution_count": null,
   "metadata": {},
   "outputs": [],
   "source": [
    "def test_drag_and_onto_element(driver):\n",
    "    driver.get('https://selenium.dev/selenium/web/mouse_interaction.html')\n",
    "\n",
    "    draggable = driver.find_element(By.ID,\"draggeble\")\n",
    "    droppable  = driver.find_element(By.ID,\"dropable\")\n",
    "\n",
    "    ActionChains(driver)\\\n",
    "        .drag_and_drop(draggable,droppable)\\\n",
    "        .perform()\n",
    "    \n",
    "\n",
    "    assert driver.find_element(By.ID,\"drop-status\").text ==\"dropped\""
   ]
  }
 ],
 "metadata": {
  "kernelspec": {
   "display_name": "Python 3",
   "language": "python",
   "name": "python3"
  },
  "language_info": {
   "codemirror_mode": {
    "name": "ipython",
    "version": 3
   },
   "file_extension": ".py",
   "mimetype": "text/x-python",
   "name": "python",
   "nbconvert_exporter": "python",
   "pygments_lexer": "ipython3",
   "version": "3.11.1"
  },
  "orig_nbformat": 4
 },
 "nbformat": 4,
 "nbformat_minor": 2
}
